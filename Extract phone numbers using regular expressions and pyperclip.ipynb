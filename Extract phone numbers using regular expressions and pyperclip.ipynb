{
 "cells": [
  {
   "cell_type": "code",
   "execution_count": 1,
   "metadata": {},
   "outputs": [],
   "source": [
    "# This mini-project is to extract the phone numbers and email addresses from a document using regular expressions"
   ]
  },
  {
   "cell_type": "code",
   "execution_count": 38,
   "metadata": {},
   "outputs": [],
   "source": [
    "import re, pyperclip"
   ]
  },
  {
   "cell_type": "code",
   "execution_count": 39,
   "metadata": {},
   "outputs": [],
   "source": [
    "#Create a regex for Phone numbers\n",
    "phoneRegex = re.compile(r'''(\n",
    "    (\\d{3}|\\(\\d{3}\\))?                # area code\n",
    "    (\\s|-|\\.)?                        # separator\n",
    "    (\\d{3})                           # first 3 digits\n",
    "    (\\s|-|\\.)                         # separator\n",
    "    (\\d{4})                           # last 4 digits\n",
    "    (\\s*(ext|x|ext.)\\s*(\\d{2,5}))?    # extension\n",
    "    )''', re.VERBOSE)"
   ]
  },
  {
   "cell_type": "code",
   "execution_count": 40,
   "metadata": {},
   "outputs": [],
   "source": [
    "#Create a regex for email addresses\n",
    "emailRegex = re.compile(r'''(\n",
    "[a-zA-Z0-9._%+-]+      # username\n",
    "@                      # @ symbol\n",
    "[a-zA-Z0-9.-]+         # domain name\n",
    "(\\.[a-zA-Z]{2,4})      # dot-something\n",
    ")''', re.VERBOSE)"
   ]
  },
  {
   "cell_type": "code",
   "execution_count": 44,
   "metadata": {},
   "outputs": [],
   "source": [
    "#Find all matches in the clipboard text\n",
    "text = str(pyperclip.paste())\n",
    "matches = []\n",
    "\n",
    "for groups in phoneRegex.findall(text):\n",
    "    phoneNum = '-'.join([groups[1],groups[3],groups[5]])\n",
    "    if groups[8] != '':\n",
    "        phoneNum += ' x' + groups[8]\n",
    "    matches.append(phoneNum)\n",
    "for groups in emailRegex.findall(text):\n",
    "       matches.append(groups[0])"
   ]
  },
  {
   "cell_type": "code",
   "execution_count": 45,
   "metadata": {},
   "outputs": [
    {
     "name": "stdout",
     "output_type": "stream",
     "text": [
      "Copied to clipboard:\n",
      "(470)-645-6000\n",
      "-001-0222\n",
      "(617)-565-8200\n",
      "-322-0660\n",
      "(203)-579-5701\n",
      "-318-6060\n",
      "(312)-353-6163\n",
      "(214)-767-0700\n",
      "-200-4822\n",
      "(313)-234-2956\n",
      "-300-2202\n",
      "(571)-226-9300\n",
      "(201)-346-8100\n",
      "-312-2740\n",
      "(336)-547-4292\n",
      "-550-8011\n",
      "(303)-486-7010\n",
      "(808)-522-8020\n",
      "-100-7700\n",
      "(713)-209-3482\n",
      "-273-9001\n",
      "(213)-894-3290\n",
      "-310-3313\n",
      "(305)-810-5850\n",
      "-845-5540\n",
      "(612)-659-7060\n",
      "-426-7013\n",
      "(504)-636-0050\n",
      "-300-2940\n",
      "(843)-746-1906\n",
      "(603)-319-3600\n",
      "-400-1910\n",
      "(215)-861-3370\n",
      "(603)-334-5467\n",
      "-102-6310\n",
      "(314)-539-2721\n",
      "-222-9210\n",
      "(619)-557-6194\n",
      "-900-9410\n",
      "(415)-705-1176\n",
      "-950-0090\n",
      "(787)-766-5704\n",
      "-800-9810\n",
      "(206)-393-0740\n",
      "(520)-670-4841\n",
      "646-282-2830\n",
      "202-504-6359\n",
      "-122-6060\n",
      "(312)-353-5762\n",
      "-425-9002\n",
      "(310)-235-6292\n",
      "(646)-282-2825\n",
      "-375-9410\n",
      "(415)-744-2910\n",
      "-906-7707\n",
      "(713)-272-2865\n",
      "-505-3313\n",
      "(305)-442-4943\n",
      "(646)-282-2825\n",
      "(212)-415-4320\n",
      "(212)-415-4280\n"
     ]
    }
   ],
   "source": [
    "#Join matches into a string for the clipboard\n",
    "# Copy results to the clipboard.\n",
    "if len(matches) > 0:\n",
    "    pyperclip.copy('\\n'.join(matches))\n",
    "    print('Copied to clipboard:')\n",
    "    print('\\n'.join(matches))\n",
    "else:\n",
    "    print('No phone numbers or email addresses found.')"
   ]
  },
  {
   "cell_type": "code",
   "execution_count": null,
   "metadata": {},
   "outputs": [],
   "source": []
  }
 ],
 "metadata": {
  "kernelspec": {
   "display_name": "Python 3",
   "language": "python",
   "name": "python3"
  },
  "language_info": {
   "codemirror_mode": {
    "name": "ipython",
    "version": 3
   },
   "file_extension": ".py",
   "mimetype": "text/x-python",
   "name": "python",
   "nbconvert_exporter": "python",
   "pygments_lexer": "ipython3",
   "version": "3.8.3"
  }
 },
 "nbformat": 4,
 "nbformat_minor": 4
}
